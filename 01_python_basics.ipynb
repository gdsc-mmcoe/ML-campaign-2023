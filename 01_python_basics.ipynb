{
 "cells": [
  {
   "attachments": {},
   "cell_type": "markdown",
   "metadata": {},
   "source": [
    "# Python basics"
   ]
  },
  {
   "cell_type": "code",
   "execution_count": 26,
   "metadata": {},
   "outputs": [
    {
     "name": "stdout",
     "output_type": "stream",
     "text": [
      "['False', 'None', 'True', '__peg_parser__', 'and', 'as', 'assert', 'async', 'await', 'break', 'class', 'continue', 'def', 'del', 'elif', 'else', 'except', 'finally', 'for', 'from', 'global', 'if', 'import', 'in', 'is', 'lambda', 'nonlocal', 'not', 'or', 'pass', 'raise', 'return', 'try', 'while', 'with', 'yield']\n"
     ]
    }
   ],
   "source": [
    "import keyword\n",
    "print(keyword.kwlist)"
   ]
  },
  {
   "attachments": {},
   "cell_type": "markdown",
   "metadata": {},
   "source": [
    "### 1) Variables and data types"
   ]
  },
  {
   "cell_type": "code",
   "execution_count": 3,
   "metadata": {},
   "outputs": [
    {
     "name": "stdout",
     "output_type": "stream",
     "text": [
      "10\n",
      "(10+2j)\n",
      "10.0\n"
     ]
    }
   ],
   "source": [
    "# integer\n",
    "x_int = 10\n",
    "# complex\n",
    "x_complex = 10 + 2j\n",
    "# float\n",
    "x_float = 10.0\n",
    "\n",
    "print(x_int)\n",
    "print(x_complex)\n",
    "print(x_float)"
   ]
  },
  {
   "cell_type": "code",
   "execution_count": 4,
   "metadata": {},
   "outputs": [
    {
     "name": "stdout",
     "output_type": "stream",
     "text": [
      "True\n",
      "False\n"
     ]
    }
   ],
   "source": [
    "# boolean\n",
    "x_true = True\n",
    "x_false = False\n",
    "\n",
    "print(x_true)\n",
    "print(x_false)"
   ]
  },
  {
   "cell_type": "code",
   "execution_count": 5,
   "metadata": {},
   "outputs": [
    {
     "name": "stdout",
     "output_type": "stream",
     "text": [
      "GDSC ML CAMPAIGN 2023\n"
     ]
    }
   ],
   "source": [
    "# string\n",
    "x_string = \"GDSC ML CAMPAIGN 2023\"\n",
    "\n",
    "print(x_string)"
   ]
  },
  {
   "cell_type": "code",
   "execution_count": 8,
   "metadata": {},
   "outputs": [
    {
     "name": "stdout",
     "output_type": "stream",
     "text": [
      "[1, 2, 3, 4, 5]\n",
      "(1, 2, 3, 4, 5)\n",
      "range(1, 6)\n"
     ]
    }
   ],
   "source": [
    "# list\n",
    "x_list = [1, 2, 3, 4, 5]\n",
    "# tuple\n",
    "x_tuple = (1, 2, 3, 4, 5)\n",
    "# range\n",
    "x_range = range(1, 6)\n",
    "\n",
    "print(x_list)\n",
    "print(x_tuple)\n",
    "print(x_range)"
   ]
  },
  {
   "cell_type": "code",
   "execution_count": 9,
   "metadata": {},
   "outputs": [
    {
     "name": "stdout",
     "output_type": "stream",
     "text": [
      "None\n"
     ]
    }
   ],
   "source": [
    "# none\n",
    "x_none = None\n",
    "\n",
    "print(x_none)"
   ]
  },
  {
   "cell_type": "code",
   "execution_count": 10,
   "metadata": {},
   "outputs": [
    {
     "name": "stdout",
     "output_type": "stream",
     "text": [
      "{1, 2, 3, 4, 5}\n",
      "frozenset({1, 2, 3, 4, 5})\n"
     ]
    }
   ],
   "source": [
    "# set\n",
    "x_set = {1, 2, 3, 4, 5}\n",
    "# frozenset\n",
    "x_frozenset = frozenset({1, 2, 3, 4, 5})\n",
    "\n",
    "print(x_set)\n",
    "print(x_frozenset)"
   ]
  },
  {
   "cell_type": "code",
   "execution_count": 11,
   "metadata": {},
   "outputs": [
    {
     "name": "stdout",
     "output_type": "stream",
     "text": [
      "{'a': 1, 'b': 2, 'c': 3}\n"
     ]
    }
   ],
   "source": [
    "# dict\n",
    "x_dict = {\n",
    "    \"a\": 1, \n",
    "    \"b\": 2, \n",
    "    \"c\": 3\n",
    "}\n",
    "\n",
    "print(x_dict)"
   ]
  },
  {
   "cell_type": "code",
   "execution_count": 12,
   "metadata": {},
   "outputs": [
    {
     "name": "stdout",
     "output_type": "stream",
     "text": [
      "<class 'int'>\n",
      "<class 'complex'>\n",
      "<class 'float'>\n",
      "<class 'bool'>\n",
      "<class 'bool'>\n",
      "<class 'str'>\n",
      "<class 'list'>\n",
      "<class 'tuple'>\n",
      "<class 'range'>\n",
      "<class 'NoneType'>\n",
      "<class 'set'>\n",
      "<class 'frozenset'>\n",
      "<class 'dict'>\n"
     ]
    }
   ],
   "source": [
    "# check variable types\n",
    "print(type(x_int))\n",
    "print(type(x_complex))\n",
    "print(type(x_float))\n",
    "print(type(x_true))\n",
    "print(type(x_false))\n",
    "print(type(x_string))\n",
    "print(type(x_list))\n",
    "print(type(x_tuple))\n",
    "print(type(x_range))\n",
    "print(type(x_none))\n",
    "print(type(x_set))\n",
    "print(type(x_frozenset))\n",
    "print(type(x_dict))"
   ]
  },
  {
   "cell_type": "code",
   "execution_count": 27,
   "metadata": {},
   "outputs": [
    {
     "data": {
      "text/plain": [
       "2085126155312"
      ]
     },
     "execution_count": 27,
     "metadata": {},
     "output_type": "execute_result"
    }
   ],
   "source": [
    "id(x_int)"
   ]
  },
  {
   "cell_type": "code",
   "execution_count": 13,
   "metadata": {},
   "outputs": [
    {
     "name": "stdout",
     "output_type": "stream",
     "text": [
      "10.0\n"
     ]
    }
   ],
   "source": [
    "# type conversion\n",
    "x_int = float(x_int)\n",
    "print(x_int)"
   ]
  },
  {
   "attachments": {},
   "cell_type": "markdown",
   "metadata": {},
   "source": [
    "### 2) Input and Output"
   ]
  },
  {
   "cell_type": "code",
   "execution_count": 17,
   "metadata": {},
   "outputs": [
    {
     "name": "stdout",
     "output_type": "stream",
     "text": [
      "GDSC ML CAMPAIGN 2023\n",
      "10\n",
      "GDSC ML CAMPAIGN 2023\n",
      "10.0\n",
      "x_int value is 10.0\n",
      "x_int value is 10.0\n",
      "x_int value is 10.0\n"
     ]
    }
   ],
   "source": [
    "# print literals\n",
    "print(\"GDSC ML CAMPAIGN 2023\")\n",
    "print(10)\n",
    "\n",
    "# print variables\n",
    "print(x_string)\n",
    "print(x_int)\n",
    "\n",
    "# print variables with literals\n",
    "print(\"x_int value is\", x_int)\n",
    "print(\"x_int value is \" + str(x_int))\n",
    "print(f\"x_int value is {x_int}\")"
   ]
  },
  {
   "cell_type": "code",
   "execution_count": 21,
   "metadata": {},
   "outputs": [
    {
     "name": "stdout",
     "output_type": "stream",
     "text": [
      "<class 'str'>\n",
      "<class 'int'>\n",
      "10\n"
     ]
    }
   ],
   "source": [
    "# input \n",
    "x_input = input(\"Enter a value: \")\n",
    "print(type(x_input))\n",
    "\n",
    "x_input = int(x_input)\n",
    "print(type(x_input))\n",
    "print(x_input)"
   ]
  },
  {
   "attachments": {},
   "cell_type": "markdown",
   "metadata": {},
   "source": [
    "### 3) Operators"
   ]
  },
  {
   "cell_type": "code",
   "execution_count": 29,
   "metadata": {},
   "outputs": [
    {
     "name": "stdout",
     "output_type": "stream",
     "text": [
      "x_int + y_int:  15\n",
      "x_int - y_int:  5\n",
      "x_int * y_int:  50\n",
      "x_int / y_int:  2.0\n",
      "x_int % y_int:  0\n",
      "x_int ** y_int: 100000\n",
      "x_int // y_int: 2\n"
     ]
    }
   ],
   "source": [
    "# arithmetic operators\n",
    "x_int = 10\n",
    "y_int = 5\n",
    "print(f\"x_int + y_int:  {x_int + y_int}\")\n",
    "print(f\"x_int - y_int:  {x_int - y_int}\")\n",
    "print(f\"x_int * y_int:  {x_int * y_int}\")\n",
    "print(f\"x_int / y_int:  {x_int / y_int}\")\n",
    "print(f\"x_int % y_int:  {x_int % y_int}\")\n",
    "print(f\"x_int ** y_int: {x_int ** y_int}\")\n",
    "print(f\"x_int // y_int: {x_int // y_int}\")"
   ]
  },
  {
   "cell_type": "code",
   "execution_count": 30,
   "metadata": {},
   "outputs": [
    {
     "name": "stdout",
     "output_type": "stream",
     "text": [
      "x_int == y_int: False\n",
      "x_int != y_int: True\n",
      "x_int > y_int:  True\n",
      "x_int < y_int:  False\n",
      "x_int >= y_int: True\n",
      "x_int <= y_int: False\n"
     ]
    }
   ],
   "source": [
    "# comparison operators\n",
    "x_int = 10\n",
    "y_int = 5\n",
    "print(f\"x_int == y_int: {x_int == y_int}\")\n",
    "print(f\"x_int != y_int: {x_int != y_int}\")\n",
    "print(f\"x_int > y_int:  {x_int > y_int}\")\n",
    "print(f\"x_int < y_int:  {x_int < y_int}\")\n",
    "print(f\"x_int >= y_int: {x_int >= y_int}\")\n",
    "print(f\"x_int <= y_int: {x_int <= y_int}\")"
   ]
  },
  {
   "cell_type": "code",
   "execution_count": 32,
   "metadata": {},
   "outputs": [
    {
     "name": "stdout",
     "output_type": "stream",
     "text": [
      "x_int += y_int: 15\n"
     ]
    }
   ],
   "source": [
    "# assignment operators\n",
    "x_int = 10\n",
    "y_int = 5\n",
    "x_int += y_int\n",
    "print(f\"x_int += y_int: {x_int}\")"
   ]
  },
  {
   "cell_type": "code",
   "execution_count": 33,
   "metadata": {},
   "outputs": [
    {
     "name": "stdout",
     "output_type": "stream",
     "text": [
      "False\n",
      "True\n",
      "False\n"
     ]
    }
   ],
   "source": [
    "# logical operators\n",
    "x_true = True\n",
    "x_false = False\n",
    "print(x_true and x_false)\n",
    "print(x_true or x_false)\n",
    "print(not x_true)"
   ]
  },
  {
   "cell_type": "code",
   "execution_count": 34,
   "metadata": {},
   "outputs": [
    {
     "name": "stdout",
     "output_type": "stream",
     "text": [
      "True\n",
      "False\n"
     ]
    }
   ],
   "source": [
    "# identity operators\n",
    "x_int = 10\n",
    "y_int = 10\n",
    "print(x_int is y_int)\n",
    "print(x_int is not y_int)"
   ]
  },
  {
   "cell_type": "code",
   "execution_count": 35,
   "metadata": {},
   "outputs": [
    {
     "name": "stdout",
     "output_type": "stream",
     "text": [
      "True\n",
      "False\n"
     ]
    }
   ],
   "source": [
    "# membership operators\n",
    "x_list = [1, 2, 3, 4, 5]\n",
    "print(1 in x_list)\n",
    "print(1 not in x_list)"
   ]
  },
  {
   "attachments": {},
   "cell_type": "markdown",
   "metadata": {},
   "source": [
    "### 4) Flow control"
   ]
  },
  {
   "cell_type": "code",
   "execution_count": 37,
   "metadata": {},
   "outputs": [
    {
     "name": "stdout",
     "output_type": "stream",
     "text": [
      "Padhai crow\n"
     ]
    }
   ],
   "source": [
    "# conditional statements\n",
    "age = int(input(\"Enter the age here: \"))\n",
    "\n",
    "if (age > 18):\n",
    "    print(\"You are eligible to vote.\")\n",
    "elif (age == 18):\n",
    "    print(\"You are eligible to vote.\")\n",
    "else:\n",
    "    print(\"Padhai crow\")"
   ]
  },
  {
   "cell_type": "code",
   "execution_count": 39,
   "metadata": {},
   "outputs": [
    {
     "name": "stdout",
     "output_type": "stream",
     "text": [
      "Odd\n",
      "Even\n",
      "Odd\n",
      "Even\n",
      "Odd\n",
      "Even\n",
      "Odd\n",
      "Even\n",
      "Odd\n",
      "Even\n"
     ]
    }
   ],
   "source": [
    "# for loop\n",
    "for i in range(1, 11):\n",
    "    if (i % 2 == 0):\n",
    "        print(\"Even\")\n",
    "    else:\n",
    "        print(\"Odd\")"
   ]
  },
  {
   "cell_type": "code",
   "execution_count": 40,
   "metadata": {},
   "outputs": [
    {
     "name": "stdout",
     "output_type": "stream",
     "text": [
      "Odd\n",
      "Even\n",
      "Odd\n",
      "Even\n",
      "Odd\n",
      "Even\n",
      "Odd\n",
      "Even\n",
      "Odd\n",
      "Even\n"
     ]
    }
   ],
   "source": [
    "# while loop\n",
    "i = 1\n",
    "while (i <= 10):\n",
    "    if (i % 2 == 0):\n",
    "        print(\"Even\")\n",
    "    else:\n",
    "        print(\"Odd\")\n",
    "    i += 1"
   ]
  },
  {
   "cell_type": "code",
   "execution_count": 41,
   "metadata": {},
   "outputs": [
    {
     "name": "stdout",
     "output_type": "stream",
     "text": [
      "1\n",
      "2\n",
      "3\n",
      "4\n"
     ]
    }
   ],
   "source": [
    "# break\n",
    "for i in range(1, 11):\n",
    "    if (i == 5):\n",
    "        break\n",
    "    print(i)"
   ]
  },
  {
   "cell_type": "code",
   "execution_count": 42,
   "metadata": {},
   "outputs": [
    {
     "name": "stdout",
     "output_type": "stream",
     "text": [
      "1\n",
      "2\n",
      "3\n",
      "4\n",
      "6\n",
      "7\n",
      "8\n",
      "9\n",
      "10\n"
     ]
    }
   ],
   "source": [
    "# continue\n",
    "for i in range(1, 11):\n",
    "    if (i == 5):\n",
    "        continue\n",
    "    print(i)"
   ]
  },
  {
   "cell_type": "code",
   "execution_count": 43,
   "metadata": {},
   "outputs": [
    {
     "name": "stdout",
     "output_type": "stream",
     "text": [
      "1\n",
      "2\n",
      "3\n",
      "4\n",
      "5\n",
      "6\n",
      "7\n",
      "8\n",
      "9\n",
      "10\n"
     ]
    }
   ],
   "source": [
    "# pass \n",
    "for i in range(1, 11):\n",
    "    if (i == 5):\n",
    "        pass\n",
    "    print(i)"
   ]
  },
  {
   "cell_type": "code",
   "execution_count": 48,
   "metadata": {},
   "outputs": [
    {
     "name": "stdout",
     "output_type": "stream",
     "text": [
      "1 * 1 = 1\n",
      "1 * 2 = 2\n",
      "1 * 3 = 3\n",
      "1 * 4 = 4\n",
      "1 * 5 = 5\n",
      "1 * 6 = 6\n",
      "1 * 7 = 7\n",
      "1 * 8 = 8\n",
      "1 * 9 = 9\n",
      "1 * 10 = 10\n",
      "2 * 1 = 2\n",
      "2 * 2 = 4\n",
      "2 * 3 = 6\n",
      "2 * 4 = 8\n",
      "2 * 5 = 10\n",
      "2 * 6 = 12\n",
      "2 * 7 = 14\n",
      "2 * 8 = 16\n",
      "2 * 9 = 18\n",
      "2 * 10 = 20\n"
     ]
    }
   ],
   "source": [
    "# nested loops\n",
    "for i in range(1, 3):\n",
    "    for j in range(1, 11):\n",
    "        print(f\"{i} * {j} = {i * j}\")"
   ]
  },
  {
   "attachments": {},
   "cell_type": "markdown",
   "metadata": {},
   "source": [
    "### 5) Functions"
   ]
  },
  {
   "cell_type": "code",
   "execution_count": 4,
   "metadata": {},
   "outputs": [
    {
     "name": "stdout",
     "output_type": "stream",
     "text": [
      "30\n"
     ]
    }
   ],
   "source": [
    "# normal user-defined function\n",
    "def add_two_numbers(x: int, y: int) -> int:\n",
    "    return x + y\n",
    "\n",
    "x = 10\n",
    "y = 20\n",
    "result = add_two_numbers(x, y)\n",
    "print(result)"
   ]
  },
  {
   "cell_type": "code",
   "execution_count": 5,
   "metadata": {},
   "outputs": [
    {
     "name": "stdout",
     "output_type": "stream",
     "text": [
      "20\n"
     ]
    }
   ],
   "source": [
    "# function with default arguments\n",
    "def add_two_numbers(x: int, y: int = 10) -> int:\n",
    "    return x + y\n",
    "\n",
    "x = 10\n",
    "result = add_two_numbers(x)\n",
    "print(result)"
   ]
  },
  {
   "cell_type": "code",
   "execution_count": 7,
   "metadata": {},
   "outputs": [
    {
     "name": "stdout",
     "output_type": "stream",
     "text": [
      "30\n"
     ]
    }
   ],
   "source": [
    "# function with keyword arguments\n",
    "def add_two_numbers(x: int, y: int) -> int:\n",
    "    return x + y\n",
    "\n",
    "x = 10\n",
    "y = 20\n",
    "result = add_two_numbers(y = y, x = x)\n",
    "print(result)"
   ]
  },
  {
   "cell_type": "code",
   "execution_count": 8,
   "metadata": {},
   "outputs": [
    {
     "name": "stdout",
     "output_type": "stream",
     "text": [
      "(10, 20, 30)\n",
      "{'a': 10, 'b': 20}\n",
      "60\n"
     ]
    }
   ],
   "source": [
    "# function with variable number of arguments\n",
    "def add_two_numbers(*args, **kwargs) -> int:\n",
    "    print(args)\n",
    "    print(kwargs)\n",
    "    return sum(args)\n",
    "\n",
    "x = 10\n",
    "y = 20\n",
    "z = 30\n",
    "result = add_two_numbers(x, y, z, a = 10, b = 20)\n",
    "print(result)"
   ]
  },
  {
   "cell_type": "code",
   "execution_count": 10,
   "metadata": {},
   "outputs": [
    {
     "name": "stdout",
     "output_type": "stream",
     "text": [
      "30\n",
      "-10\n"
     ]
    }
   ],
   "source": [
    "# function returning multiple values\n",
    "def add_subtract_two_numbers(x: int, y: int) -> tuple:\n",
    "    return x + y, x - y\n",
    "\n",
    "x = 10\n",
    "y = 20\n",
    "result_sum, result_diff = add_subtract_two_numbers(x, y)\n",
    "print(result_sum)\n",
    "print(result_diff)"
   ]
  },
  {
   "cell_type": "code",
   "execution_count": 11,
   "metadata": {},
   "outputs": [
    {
     "name": "stdout",
     "output_type": "stream",
     "text": [
      "20\n"
     ]
    }
   ],
   "source": [
    "# inbuilt function\n",
    "x = 10\n",
    "y = 20\n",
    "print(max(x, y))"
   ]
  },
  {
   "cell_type": "code",
   "execution_count": 13,
   "metadata": {},
   "outputs": [
    {
     "name": "stdout",
     "output_type": "stream",
     "text": [
      "Local x value: 20\n",
      "Global x value: 10\n"
     ]
    }
   ],
   "source": [
    "# local and global variables\n",
    "x = 10\n",
    "\n",
    "def add_two_numbers():\n",
    "    x = 20\n",
    "    print(f\"Local x value: {x}\")\n",
    "\n",
    "add_two_numbers()\n",
    "print(f\"Global x value: {x}\")"
   ]
  },
  {
   "cell_type": "code",
   "execution_count": 15,
   "metadata": {},
   "outputs": [
    {
     "name": "stdout",
     "output_type": "stream",
     "text": [
      "30\n"
     ]
    }
   ],
   "source": [
    "# lambda function\n",
    "add_two_numbers = lambda x, y: x + y\n",
    "\n",
    "x = 10\n",
    "y = 20\n",
    "result = add_two_numbers(x, y)\n",
    "print(result)"
   ]
  },
  {
   "attachments": {},
   "cell_type": "markdown",
   "metadata": {},
   "source": [
    "### 6) Lists Deep Dive"
   ]
  },
  {
   "cell_type": "code",
   "execution_count": 43,
   "metadata": {},
   "outputs": [
    {
     "name": "stdout",
     "output_type": "stream",
     "text": [
      "1 2 3 4 5 \n",
      "---------\n",
      "1 2 3 4 5 "
     ]
    }
   ],
   "source": [
    "# iterate over list type 1\n",
    "x_list = [1, 2, 3, 4, 5]\n",
    "for i in x_list:\n",
    "    print(i, end=' ')\n",
    "\n",
    "print()\n",
    "print(\"---------\")\n",
    "\n",
    "# iterate over list type 2\n",
    "x_list = [1, 2, 3, 4, 5]\n",
    "for i in range(len(x_list)):\n",
    "    print(x_list[i], end=' ')"
   ]
  },
  {
   "cell_type": "code",
   "execution_count": 21,
   "metadata": {},
   "outputs": [
    {
     "name": "stdout",
     "output_type": "stream",
     "text": [
      "1\n",
      "5\n"
     ]
    }
   ],
   "source": [
    "# indexing\n",
    "x_list = [1, 2, 3, 4, 5]\n",
    "print(x_list[0])\n",
    "print(x_list[-1])"
   ]
  },
  {
   "cell_type": "code",
   "execution_count": 22,
   "metadata": {},
   "outputs": [
    {
     "name": "stdout",
     "output_type": "stream",
     "text": [
      "[2, 3, 4]\n",
      "[2, 3, 4, 5]\n",
      "[1, 2, 3, 4]\n",
      "[3, 4]\n"
     ]
    }
   ],
   "source": [
    "# slicing\n",
    "x_list = [1, 2, 3, 4, 5]\n",
    "print(x_list[1:4])\n",
    "print(x_list[1:])\n",
    "print(x_list[:4])\n",
    "print(x_list[-3:-1])"
   ]
  },
  {
   "cell_type": "code",
   "execution_count": 24,
   "metadata": {},
   "outputs": [
    {
     "name": "stdout",
     "output_type": "stream",
     "text": [
      "[1, 2, 3, 4, 5]\n",
      "[1, 2, 3, 4, 5, 6]\n",
      "[0, 1, 2, 3, 4, 5, 6]\n",
      "[0, 1, 2, 4, 5, 6]\n",
      "[0, 1, 2, 4, 5]\n",
      "[1, 2, 4, 5]\n",
      "[]\n"
     ]
    }
   ],
   "source": [
    "# list methods\n",
    "x_list = [1, 2, 3, 4, 5]\n",
    "print(x_list)\n",
    "x_list.append(6)\n",
    "print(x_list)\n",
    "x_list.insert(0, 0)\n",
    "print(x_list)\n",
    "x_list.remove(3)\n",
    "print(x_list)\n",
    "x_list.pop()\n",
    "print(x_list)\n",
    "x_list.pop(0)\n",
    "print(x_list)\n",
    "x_list.clear()\n",
    "print(x_list)"
   ]
  },
  {
   "cell_type": "code",
   "execution_count": 25,
   "metadata": {},
   "outputs": [
    {
     "name": "stdout",
     "output_type": "stream",
     "text": [
      "[1, 2, 3, 4, 5]\n",
      "[2, 4, 6, 8, 10]\n"
     ]
    }
   ],
   "source": [
    "# list comprehension\n",
    "x_list = [1, 2, 3, 4, 5]\n",
    "print(x_list)\n",
    "y_list = [i * 2 for i in x_list]\n",
    "print(y_list)"
   ]
  },
  {
   "cell_type": "code",
   "execution_count": 32,
   "metadata": {},
   "outputs": [
    {
     "name": "stdout",
     "output_type": "stream",
     "text": [
      "[1, 2, 3, 4, 5]\n"
     ]
    }
   ],
   "source": [
    "# list sorting\n",
    "x_list = [5, 4, 3, 2, 1]\n",
    "x_list.sort()\n",
    "print(x_list)"
   ]
  },
  {
   "cell_type": "code",
   "execution_count": 33,
   "metadata": {},
   "outputs": [
    {
     "name": "stdout",
     "output_type": "stream",
     "text": [
      "[5, 4, 3, 2, 1]\n"
     ]
    }
   ],
   "source": [
    "# list reversing\n",
    "x_list = [1, 2, 3, 4, 5]\n",
    "x_list.reverse()\n",
    "print(x_list)"
   ]
  },
  {
   "cell_type": "code",
   "execution_count": 36,
   "metadata": {},
   "outputs": [
    {
     "name": "stdout",
     "output_type": "stream",
     "text": [
      "[1, 2, 3, 4, 5]\n"
     ]
    }
   ],
   "source": [
    "# list copying\n",
    "x_list = [1, 2, 3, 4, 5]\n",
    "y_list = x_list.copy()\n",
    "print(y_list)"
   ]
  },
  {
   "cell_type": "code",
   "execution_count": 31,
   "metadata": {},
   "outputs": [
    {
     "name": "stdout",
     "output_type": "stream",
     "text": [
      "[1, 2, 3, 4, 5, 6, 7, 8, 9, 10]\n"
     ]
    }
   ],
   "source": [
    "# list concatenation\n",
    "x_list = [1, 2, 3, 4, 5]\n",
    "y_list = [6, 7, 8, 9, 10]\n",
    "z_list = x_list + y_list\n",
    "print(z_list)"
   ]
  },
  {
   "attachments": {},
   "cell_type": "markdown",
   "metadata": {},
   "source": [
    "### 7) Dictionary Deep Dive"
   ]
  },
  {
   "cell_type": "code",
   "execution_count": 46,
   "metadata": {},
   "outputs": [
    {
     "name": "stdout",
     "output_type": "stream",
     "text": [
      "name John\n",
      "age 20\n",
      "---------\n",
      "name John\n",
      "age 20\n"
     ]
    }
   ],
   "source": [
    "x_dict = {\n",
    "    \"name\" : \"John\",\n",
    "    \"age\" : 20,\n",
    "}\n",
    "\n",
    "# iterate over dictionary type 1\n",
    "for key in x_dict:\n",
    "    print(key, x_dict[key])\n",
    "\n",
    "print(\"---------\")\n",
    "\n",
    "# iterate over dictionary type 2\n",
    "for key, value in x_dict.items():\n",
    "    print(key, value)"
   ]
  },
  {
   "cell_type": "code",
   "execution_count": 56,
   "metadata": {},
   "outputs": [
    {
     "name": "stdout",
     "output_type": "stream",
     "text": [
      "John\n",
      "John\n",
      "John_updated\n"
     ]
    }
   ],
   "source": [
    "# indexing\n",
    "x_dict = {\n",
    "    \"name\" : \"John\",\n",
    "    \"age\" : 20,\n",
    "}\n",
    "\n",
    "print(x_dict[\"name\"])\n",
    "print(x_dict.get(\"name\"))\n",
    "x_dict[\"name\"] = \"John_updated\"\n",
    "print(x_dict[\"name\"])"
   ]
  },
  {
   "cell_type": "code",
   "execution_count": 50,
   "metadata": {},
   "outputs": [
    {
     "name": "stdout",
     "output_type": "stream",
     "text": [
      "dict_keys(['name', 'age'])\n",
      "dict_values(['John', 20])\n",
      "dict_items([('name', 'John'), ('age', 20)])\n"
     ]
    }
   ],
   "source": [
    "# breakdown\n",
    "x_dict = {\n",
    "    \"name\" : \"John\",\n",
    "    \"age\" : 20,\n",
    "}\n",
    "\n",
    "print(x_dict.keys())\n",
    "print(x_dict.values())\n",
    "print(x_dict.items())"
   ]
  },
  {
   "cell_type": "code",
   "execution_count": 52,
   "metadata": {},
   "outputs": [
    {
     "name": "stdout",
     "output_type": "stream",
     "text": [
      "{'name': 'Jane', 'age': 20, 'gender': 'M'}\n",
      "{'age': 20, 'gender': 'M'}\n",
      "{'age': 20}\n",
      "{}\n"
     ]
    }
   ],
   "source": [
    "# dictionary methods\n",
    "x_dict = {\n",
    "    \"name\" : \"John\",\n",
    "    \"age\" : 20,\n",
    "    \"gender\" : \"M\"\n",
    "}\n",
    "\n",
    "x_dict.update({\"name\" : \"Jane\"})\n",
    "print(x_dict)\n",
    "\n",
    "x_dict.pop(\"name\")\n",
    "print(x_dict)\n",
    "\n",
    "x_dict.popitem()\n",
    "print(x_dict)\n",
    "\n",
    "x_dict.clear()\n",
    "print(x_dict)"
   ]
  },
  {
   "attachments": {},
   "cell_type": "markdown",
   "metadata": {},
   "source": [
    "### 8) Map, Filter, Reduce"
   ]
  },
  {
   "cell_type": "code",
   "execution_count": 57,
   "metadata": {},
   "outputs": [
    {
     "name": "stdout",
     "output_type": "stream",
     "text": [
      "[2, 4, 6, 8, 10]\n"
     ]
    }
   ],
   "source": [
    "# map function\n",
    "def mapper_fun(x : int) -> int:\n",
    "    return x * 2\n",
    "\n",
    "x_list = [1, 2, 3, 4, 5]\n",
    "y_list = list(map(mapper_fun, x_list))\n",
    "print(y_list)"
   ]
  },
  {
   "cell_type": "code",
   "execution_count": 58,
   "metadata": {},
   "outputs": [
    {
     "name": "stdout",
     "output_type": "stream",
     "text": [
      "[2, 4]\n"
     ]
    }
   ],
   "source": [
    "# filter function\n",
    "def filter_fun(x : int) -> bool:\n",
    "    return x % 2 == 0\n",
    "\n",
    "x_list = [1, 2, 3, 4, 5]\n",
    "y_list = list(filter(filter_fun, x_list))\n",
    "print(y_list)"
   ]
  },
  {
   "cell_type": "code",
   "execution_count": 59,
   "metadata": {},
   "outputs": [
    {
     "name": "stdout",
     "output_type": "stream",
     "text": [
      "15\n"
     ]
    }
   ],
   "source": [
    "# reduce function\n",
    "from functools import reduce\n",
    "\n",
    "def reducer_fun(x : int, y : int) -> int:\n",
    "    return x + y\n",
    "\n",
    "x_list = [1, 2, 3, 4, 5]\n",
    "result = reduce(reducer_fun, x_list)\n",
    "print(result)"
   ]
  },
  {
   "attachments": {},
   "cell_type": "markdown",
   "metadata": {},
   "source": [
    "### 9) Basic OOPS"
   ]
  },
  {
   "cell_type": "code",
   "execution_count": 66,
   "metadata": {},
   "outputs": [],
   "source": [
    "class Person:\n",
    "    def __init__(self, name : str, age : int):\n",
    "        self.name = name\n",
    "        self.age = age\n",
    "\n",
    "    def get_name(self) -> str:\n",
    "        return self.name\n",
    "\n",
    "    def get_age(self) -> int:\n",
    "        return self.age\n",
    "\n",
    "    def set_name(self, name : str) -> None:\n",
    "        self.name = name\n",
    "\n",
    "    def set_age(self, age : int) -> None:\n",
    "        self.age = age\n",
    "\n",
    "    def __str__(self) -> str:\n",
    "        return f\"Name: {self.name}, Age: {self.age}\""
   ]
  },
  {
   "cell_type": "code",
   "execution_count": 67,
   "metadata": {},
   "outputs": [
    {
     "name": "stdout",
     "output_type": "stream",
     "text": [
      "Name: John, Age: 20\n"
     ]
    }
   ],
   "source": [
    "john = Person(\"John\", 20)\n",
    "print(john)"
   ]
  },
  {
   "cell_type": "code",
   "execution_count": 68,
   "metadata": {},
   "outputs": [
    {
     "name": "stdout",
     "output_type": "stream",
     "text": [
      "20\n",
      "John\n"
     ]
    }
   ],
   "source": [
    "print(john.get_age())\n",
    "print(john.get_name())"
   ]
  },
  {
   "cell_type": "code",
   "execution_count": 69,
   "metadata": {},
   "outputs": [
    {
     "name": "stdout",
     "output_type": "stream",
     "text": [
      "Name: John_updated, Age: 21\n"
     ]
    }
   ],
   "source": [
    "john.set_name(\"John_updated\")\n",
    "john.set_age(21)\n",
    "print(john)"
   ]
  },
  {
   "attachments": {},
   "cell_type": "markdown",
   "metadata": {},
   "source": [
    "### 10) Modules"
   ]
  },
  {
   "cell_type": "code",
   "execution_count": 70,
   "metadata": {},
   "outputs": [],
   "source": [
    "from add_subtract_module import add_two_numbers, subtract_two_numbers"
   ]
  },
  {
   "cell_type": "code",
   "execution_count": 71,
   "metadata": {},
   "outputs": [
    {
     "name": "stdout",
     "output_type": "stream",
     "text": [
      "30\n",
      "-10\n"
     ]
    }
   ],
   "source": [
    "addition_result = add_two_numbers(10, 20)\n",
    "print(addition_result)\n",
    "subtraction_result = subtract_two_numbers(10, 20)\n",
    "print(subtraction_result)"
   ]
  }
 ],
 "metadata": {
  "kernelspec": {
   "display_name": "venv",
   "language": "python",
   "name": "python3"
  },
  "language_info": {
   "codemirror_mode": {
    "name": "ipython",
    "version": 3
   },
   "file_extension": ".py",
   "mimetype": "text/x-python",
   "name": "python",
   "nbconvert_exporter": "python",
   "pygments_lexer": "ipython3",
   "version": "3.9.13"
  },
  "orig_nbformat": 4
 },
 "nbformat": 4,
 "nbformat_minor": 2
}
